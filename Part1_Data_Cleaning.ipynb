{
 "cells": [
  {
   "cell_type": "markdown",
   "id": "252344cb",
   "metadata": {},
   "source": [
    "# Capstone Project: Create a Customer Segmentation Report for Arvato Financial Services\n",
    "\n",
    "In this project, we will analyze demographics data for customers of a mail-order sales company in Germany, comparing it against demographics information for the general population. \n",
    "\n",
    "- We'll use unsupervised learning techniques to perform customer segmentation, identifying the parts of the population that best describe the core customer base of the company. \n",
    "\n",
    "- Then, we'll apply what we've learned on a third dataset with demographics information for targets of a marketing campaign for the company, and use a model to predict which individuals are most likely to convert into becoming customers for the company. \n",
    "\n",
    "\n",
    "The data that we will use has been provided by Udacity's partners at Bertelsmann Arvato Analytics, and represents a real-life data science task.\n",
    "\n",
    "The main deliverable for this project is a blog post that reports our findings."
   ]
  },
  {
   "cell_type": "markdown",
   "id": "09b08a13",
   "metadata": {},
   "source": [
    "To keep this work tidy and to avoid memory errors, we shall split this work into three notebooks:\n",
    "\n",
    "Part 0: Data cleaning  \n",
    "Part 1: Unsupervised Learning  \n",
    "Part 2: Supervised Learning Model"
   ]
  },
  {
   "cell_type": "code",
   "execution_count": 1,
   "id": "373b30b1",
   "metadata": {},
   "outputs": [],
   "source": [
    "# Import necessary libraries \n",
    "import numpy as np\n",
    "import pandas as pd\n",
    "import time "
   ]
  },
  {
   "cell_type": "code",
   "execution_count": 2,
   "id": "5c53dbaf",
   "metadata": {},
   "outputs": [],
   "source": [
    "# Visualization imports & configuration\n",
    "import matplotlib.pyplot as plt\n",
    "import matplotlib as mpl\n",
    "\n",
    "mpl.rcParams['xtick.labelsize'] = 18\n",
    "mpl.rcParams['ytick.labelsize'] = 18\n",
    "mpl.rcParams['axes.titlesize'] = 20\n",
    "mpl.rcParams['axes.labelsize'] = 20\n",
    "\n",
    "%matplotlib inline"
   ]
  },
  {
   "cell_type": "code",
   "execution_count": 3,
   "id": "6306b52f",
   "metadata": {},
   "outputs": [],
   "source": [
    "from sklearn.impute import SimpleImputer\n",
    "from sklearn.preprocessing import StandardScaler"
   ]
  },
  {
   "cell_type": "code",
   "execution_count": 4,
   "id": "262b3ad2",
   "metadata": {},
   "outputs": [
    {
     "name": "stdout",
     "output_type": "stream",
     "text": [
      "utils loaded: this module contains helpful data cleaning functions\n"
     ]
    }
   ],
   "source": [
    "from utils import * # simple convenience functions to keep this notebook tidy"
   ]
  },
  {
   "cell_type": "markdown",
   "id": "15e30563",
   "metadata": {},
   "source": [
    "- Load in the two Excel spreadsheets provided & have a quick look.  \n",
    "- These contain information about the columns depicted in the data files which we will load next.  \n",
    "- These files shall be referred to as the Excel documentation."
   ]
  },
  {
   "cell_type": "code",
   "execution_count": 5,
   "id": "9e5e77f7",
   "metadata": {},
   "outputs": [],
   "source": [
    "location = \"data\\\\\" # location of data files"
   ]
  },
  {
   "cell_type": "code",
   "execution_count": 6,
   "id": "8a7b9c64",
   "metadata": {},
   "outputs": [
    {
     "name": "stdout",
     "output_type": "stream",
     "text": [
      "(313, 4)\n"
     ]
    },
    {
     "data": {
      "text/html": [
       "<div>\n",
       "<style scoped>\n",
       "    .dataframe tbody tr th:only-of-type {\n",
       "        vertical-align: middle;\n",
       "    }\n",
       "\n",
       "    .dataframe tbody tr th {\n",
       "        vertical-align: top;\n",
       "    }\n",
       "\n",
       "    .dataframe thead th {\n",
       "        text-align: right;\n",
       "    }\n",
       "</style>\n",
       "<table border=\"1\" class=\"dataframe\">\n",
       "  <thead>\n",
       "    <tr style=\"text-align: right;\">\n",
       "      <th></th>\n",
       "      <th>Information level</th>\n",
       "      <th>Attribute</th>\n",
       "      <th>Description</th>\n",
       "      <th>Additional notes</th>\n",
       "    </tr>\n",
       "  </thead>\n",
       "  <tbody>\n",
       "    <tr>\n",
       "      <th>0</th>\n",
       "      <td>NaN</td>\n",
       "      <td>AGER_TYP</td>\n",
       "      <td>best-ager typology</td>\n",
       "      <td>in cooperation with Kantar TNS; the informatio...</td>\n",
       "    </tr>\n",
       "    <tr>\n",
       "      <th>1</th>\n",
       "      <td>Person</td>\n",
       "      <td>ALTERSKATEGORIE_GROB</td>\n",
       "      <td>age through prename analysis</td>\n",
       "      <td>modelled on millions of first name-age-referen...</td>\n",
       "    </tr>\n",
       "    <tr>\n",
       "      <th>2</th>\n",
       "      <td>NaN</td>\n",
       "      <td>ANREDE_KZ</td>\n",
       "      <td>gender</td>\n",
       "      <td>NaN</td>\n",
       "    </tr>\n",
       "    <tr>\n",
       "      <th>3</th>\n",
       "      <td>NaN</td>\n",
       "      <td>CJT_GESAMTTYP</td>\n",
       "      <td>Customer-Journey-Typology relating to the pref...</td>\n",
       "      <td>relating to the preferred information, marketi...</td>\n",
       "    </tr>\n",
       "    <tr>\n",
       "      <th>4</th>\n",
       "      <td>NaN</td>\n",
       "      <td>FINANZ_MINIMALIST</td>\n",
       "      <td>financial typology: low financial interest</td>\n",
       "      <td>Gfk-Typology based on a representative househo...</td>\n",
       "    </tr>\n",
       "  </tbody>\n",
       "</table>\n",
       "</div>"
      ],
      "text/plain": [
       "  Information level             Attribute  \\\n",
       "0               NaN              AGER_TYP   \n",
       "1            Person  ALTERSKATEGORIE_GROB   \n",
       "2               NaN             ANREDE_KZ   \n",
       "3               NaN         CJT_GESAMTTYP   \n",
       "4               NaN     FINANZ_MINIMALIST   \n",
       "\n",
       "                                         Description  \\\n",
       "0                                 best-ager typology   \n",
       "1                      age through prename analysis    \n",
       "2                                             gender   \n",
       "3  Customer-Journey-Typology relating to the pref...   \n",
       "4         financial typology: low financial interest   \n",
       "\n",
       "                                    Additional notes  \n",
       "0  in cooperation with Kantar TNS; the informatio...  \n",
       "1  modelled on millions of first name-age-referen...  \n",
       "2                                                NaN  \n",
       "3  relating to the preferred information, marketi...  \n",
       "4  Gfk-Typology based on a representative househo...  "
      ]
     },
     "execution_count": 6,
     "metadata": {},
     "output_type": "execute_result"
    }
   ],
   "source": [
    "# DIAS Information Levels - Attributes 2017.xlsx is a top-level list of attributes and descriptions, \n",
    "# organized by informational category. \n",
    "information_levels = pd.read_excel(location+'DIAS Information Levels - Attributes 2017.xlsx', header=1, usecols='B:E')\n",
    "print(information_levels.shape)\n",
    "information_levels.head()"
   ]
  },
  {
   "cell_type": "code",
   "execution_count": 7,
   "id": "45f7c626",
   "metadata": {},
   "outputs": [
    {
     "name": "stdout",
     "output_type": "stream",
     "text": [
      "(2258, 4)\n"
     ]
    },
    {
     "data": {
      "text/html": [
       "<div>\n",
       "<style scoped>\n",
       "    .dataframe tbody tr th:only-of-type {\n",
       "        vertical-align: middle;\n",
       "    }\n",
       "\n",
       "    .dataframe tbody tr th {\n",
       "        vertical-align: top;\n",
       "    }\n",
       "\n",
       "    .dataframe thead th {\n",
       "        text-align: right;\n",
       "    }\n",
       "</style>\n",
       "<table border=\"1\" class=\"dataframe\">\n",
       "  <thead>\n",
       "    <tr style=\"text-align: right;\">\n",
       "      <th></th>\n",
       "      <th>Attribute</th>\n",
       "      <th>Description</th>\n",
       "      <th>Value</th>\n",
       "      <th>Meaning</th>\n",
       "    </tr>\n",
       "  </thead>\n",
       "  <tbody>\n",
       "    <tr>\n",
       "      <th>0</th>\n",
       "      <td>AGER_TYP</td>\n",
       "      <td>best-ager typology</td>\n",
       "      <td>-1</td>\n",
       "      <td>unknown</td>\n",
       "    </tr>\n",
       "    <tr>\n",
       "      <th>1</th>\n",
       "      <td>NaN</td>\n",
       "      <td>NaN</td>\n",
       "      <td>0</td>\n",
       "      <td>no classification possible</td>\n",
       "    </tr>\n",
       "    <tr>\n",
       "      <th>2</th>\n",
       "      <td>NaN</td>\n",
       "      <td>NaN</td>\n",
       "      <td>1</td>\n",
       "      <td>passive elderly</td>\n",
       "    </tr>\n",
       "    <tr>\n",
       "      <th>3</th>\n",
       "      <td>NaN</td>\n",
       "      <td>NaN</td>\n",
       "      <td>2</td>\n",
       "      <td>cultural elderly</td>\n",
       "    </tr>\n",
       "    <tr>\n",
       "      <th>4</th>\n",
       "      <td>NaN</td>\n",
       "      <td>NaN</td>\n",
       "      <td>3</td>\n",
       "      <td>experience-driven elderly</td>\n",
       "    </tr>\n",
       "  </tbody>\n",
       "</table>\n",
       "</div>"
      ],
      "text/plain": [
       "  Attribute         Description Value                     Meaning\n",
       "0  AGER_TYP  best-ager typology    -1                     unknown\n",
       "1       NaN                 NaN     0  no classification possible\n",
       "2       NaN                 NaN     1             passive elderly\n",
       "3       NaN                 NaN     2            cultural elderly\n",
       "4       NaN                 NaN     3   experience-driven elderly"
      ]
     },
     "execution_count": 7,
     "metadata": {},
     "output_type": "execute_result"
    }
   ],
   "source": [
    "#DIAS Attributes - Values 2017.xlsx is a detailed mapping of data values for each feature in alphabetical order.\n",
    "attributes_values = pd.read_excel(location+'DIAS Attributes - Values 2017.xlsx', header=1, usecols='B:E')\n",
    "print(attributes_values.shape)\n",
    "attributes_values.head()"
   ]
  },
  {
   "cell_type": "markdown",
   "id": "f10b5064",
   "metadata": {},
   "source": [
    "# Part 1: Data cleaning"
   ]
  },
  {
   "cell_type": "code",
   "execution_count": 8,
   "id": "d3ecff7f",
   "metadata": {},
   "outputs": [],
   "source": [
    "location = \"data\\\\\" # location of data files"
   ]
  },
  {
   "cell_type": "code",
   "execution_count": 9,
   "id": "af9423b2",
   "metadata": {},
   "outputs": [],
   "source": [
    "# load in the data files (saved previously as pickle files for faster loading)\n",
    "azdias = pd.read_pickle(location+'Udacity_AZDIAS_052018.pkl')\n",
    "customers = pd.read_pickle(location+'Udacity_CUSTOMERS_052018.pkl')"
   ]
  },
  {
   "cell_type": "markdown",
   "id": "21ab18b2",
   "metadata": {},
   "source": [
    "Loading the original csv data files gave the following error:  \n",
    "`Error raised:`\n",
    "`typeWarning: Columns (18,19) have mixed types.Specify dtype option on import or set low_memory=False.`"
   ]
  },
  {
   "cell_type": "markdown",
   "id": "21d91064",
   "metadata": {},
   "source": [
    "Inspecting columns 18 and 19 we find values X and XX mixed in with float values.\n",
    "On checking the Excel documentation we find that X and XX are undocumented."
   ]
  },
  {
   "cell_type": "markdown",
   "id": "f6f27bcd",
   "metadata": {},
   "source": [
    "We will now convert these values to nan using the replace_symbols_with_nan() function imported from `utils`:"
   ]
  },
  {
   "cell_type": "code",
   "execution_count": 10,
   "id": "2d618380",
   "metadata": {},
   "outputs": [
    {
     "name": "stdout",
     "output_type": "stream",
     "text": [
      "Help on function replace_symbols_with_nan in module utils:\n",
      "\n",
      "replace_symbols_with_nan(df, columns, symbols)\n",
      "    For each column in the dataframe, values in the `symbols` list are replaced with nan\n",
      "\n"
     ]
    }
   ],
   "source": [
    "help(replace_symbols_with_nan)"
   ]
  },
  {
   "cell_type": "code",
   "execution_count": 11,
   "id": "1690d953",
   "metadata": {},
   "outputs": [
    {
     "name": "stdout",
     "output_type": "stream",
     "text": [
      "These columns have mixed types and will be fixed: ['CAMEO_DEUG_2015' 'CAMEO_INTL_2015']\n"
     ]
    }
   ],
   "source": [
    "columns_to_clean = customers.columns[[18,19]]\n",
    "print(\"These columns have mixed types and will be fixed:\", columns_to_clean.values)\n",
    "symbols=[\"XX\", \"X\"]\n",
    "customers_clean = replace_symbols_with_nan(customers, columns_to_clean, symbols)\n",
    "azdias_clean = replace_symbols_with_nan(azdias, columns_to_clean, symbols)"
   ]
  },
  {
   "cell_type": "markdown",
   "id": "7e1ede31",
   "metadata": {},
   "source": [
    "We also want to know which values in `azdias` and `customers` mean \"unknown\" (or \"unknown / no main age detectable\"). This information is in Excel documentation (`attributes_values`):"
   ]
  },
  {
   "cell_type": "code",
   "execution_count": 12,
   "id": "6958d992",
   "metadata": {},
   "outputs": [],
   "source": [
    "unknowns = attributes_values[attributes_values.Meaning.isin([\"unknown / no main age detectable\", \"unknown\"])]"
   ]
  },
  {
   "cell_type": "markdown",
   "id": "d25dcfed",
   "metadata": {},
   "source": [
    "We now convert this into a dictionary, so that we can use the dictionary to clean our dataframes:"
   ]
  },
  {
   "cell_type": "code",
   "execution_count": 13,
   "id": "607ea36c",
   "metadata": {},
   "outputs": [],
   "source": [
    "# We now convert this into a dictionary, so that we can use the dictionary to clean our dataframes\n",
    "value_of_unknown = {}\n",
    "for i, row in unknowns.iterrows():\n",
    "    value_of_unknown[row.Attribute] = str(row.Value).split(\", \")"
   ]
  },
  {
   "cell_type": "markdown",
   "id": "e2ff915f",
   "metadata": {},
   "source": [
    "We will now convert unknown values using nan using the unknown_to_nan() function imported from `utils`:"
   ]
  },
  {
   "cell_type": "code",
   "execution_count": 14,
   "id": "97d25947",
   "metadata": {},
   "outputs": [
    {
     "name": "stdout",
     "output_type": "stream",
     "text": [
      "Help on function unknown_to_nan in module utils:\n",
      "\n",
      "unknown_to_nan(df, dict_of_unknowns)\n",
      "    INPUT:\n",
      "    df - pandas dataframe \n",
      "    dict_of_unknowns - key-value pairs, where values indicate \"unknown\" \n",
      "    \n",
      "    OUTPUT:\n",
      "    df - dataframe\n",
      "    \n",
      "    Description:\n",
      "    Checks values df against dict_of_unknowns\n",
      "    Return a dataframe with unknown values replaced with nan.\n",
      "\n"
     ]
    }
   ],
   "source": [
    "help(unknown_to_nan)"
   ]
  },
  {
   "cell_type": "code",
   "execution_count": 15,
   "id": "5f46fe43",
   "metadata": {},
   "outputs": [
    {
     "name": "stdout",
     "output_type": "stream",
     "text": [
      "13864522\n",
      "14487764\n"
     ]
    }
   ],
   "source": [
    "# Compare before & after:\n",
    "customers_clean = unknown_to_nan(customers_clean, value_of_unknown)\n",
    "print( customers.isna().sum().sum() )\n",
    "print( customers_clean.isna().sum().sum() )"
   ]
  },
  {
   "cell_type": "code",
   "execution_count": 16,
   "id": "31bb365b",
   "metadata": {},
   "outputs": [
    {
     "name": "stdout",
     "output_type": "stream",
     "text": [
      "33492923\n",
      "37073313\n"
     ]
    }
   ],
   "source": [
    "# Compare before & after:\n",
    "azdias_clean = unknown_to_nan(azdias_clean, value_of_unknown)\n",
    "print( azdias.isna().sum().sum() )\n",
    "print( azdias_clean.isna().sum().sum() )"
   ]
  },
  {
   "cell_type": "markdown",
   "id": "1c610c63",
   "metadata": {},
   "source": [
    "# Null values"
   ]
  },
  {
   "cell_type": "markdown",
   "id": "1f5f52aa",
   "metadata": {},
   "source": [
    "We will deal now with null values in columns and rows."
   ]
  },
  {
   "cell_type": "code",
   "execution_count": 17,
   "id": "e6dda19e",
   "metadata": {},
   "outputs": [
    {
     "name": "stdout",
     "output_type": "stream",
     "text": [
      "For each column, what percentage of the values are null?\n"
     ]
    },
    {
     "data": {
      "text/plain": [
       "ALTER_KIND4    99.864792\n",
       "TITEL_KZ       99.757636\n",
       "ALTER_KIND3    99.307691\n",
       "ALTER_KIND2    96.690047\n",
       "ALTER_KIND1    90.904837\n",
       "dtype: float64"
      ]
     },
     "execution_count": 17,
     "metadata": {},
     "output_type": "execute_result"
    }
   ],
   "source": [
    "# Columns\n",
    "null_azidas_percent= 100 * azdias_clean.isnull().sum(axis=0) / (azdias_clean.shape[0])\n",
    "null_azidas_percent.sort_values(ascending = False, inplace = True)\n",
    "print(\"For each column, what percentage of the values are null?\")\n",
    "null_azidas_percent.head(5)"
   ]
  },
  {
   "cell_type": "code",
   "execution_count": 18,
   "id": "83895acd",
   "metadata": {},
   "outputs": [
    {
     "data": {
      "image/png": "[encoded data removed]",
      "text/plain": [
       "<Figure size 1152x720 with 1 Axes>"
      ]
     },
     "metadata": {
      "needs_background": "light"
     },
     "output_type": "display_data"
    }
   ],
   "source": [
    "plt.figure(figsize = (16,10))\n",
    "plt.bar(null_azidas_percent.head(30).index, null_azidas_percent.head(30))\n",
    "plt.xlabel('Column name')\n",
    "plt.ylabel('Percentage of nulls in column'); plt.title('Columns with highest percentage of nulls')\n",
    "plt.yticks(np.arange(0,110,10))\n",
    "plt.xticks(rotation = 90);\n",
    "plt.axhline(20, linestyle = 'dotted', color = 'red')#; plt.axhline(30);\n",
    "plt.axvline(20-0.5, linestyle = 'dotted', color = 'red');\n",
    "plt.tight_layout()\n",
    "plt.savefig('images/Columns with nulls.png')"
   ]
  },
  {
   "cell_type": "code",
   "execution_count": 19,
   "id": "ab07753b",
   "metadata": {},
   "outputs": [
    {
     "name": "stdout",
     "output_type": "stream",
     "text": [
      "20\n",
      "ALTER_KIND4, TITEL_KZ, ALTER_KIND3, ALTER_KIND2, ALTER_KIND1, AGER_TYP, EXTSEL992, KK_KUNDENTYP, KBA05_BAUMAX, ALTER_HH, ALTERSKATEGORIE_FEIN, D19_GESAMT_ONLINE_QUOTE_12, D19_KONSUMTYP, D19_VERSAND_ONLINE_QUOTE_12, D19_BANKEN_ONLINE_QUOTE_12, D19_TELKO_ONLINE_QUOTE_12, D19_LOTTO, D19_LETZTER_KAUF_BRANCHE, D19_VERSI_ONLINE_QUOTE_12, D19_SOZIALES"
     ]
    }
   ],
   "source": [
    "# Determine which columns are missing more than 20% of their values\n",
    "columns_missing_20_percent = null_azidas_percent[null_azidas_percent>20.0].index.tolist()\n",
    "print(len(columns_missing_20_percent))\n",
    "print_list(columns_missing_20_percent)"
   ]
  },
  {
   "cell_type": "markdown",
   "id": "cbb31695",
   "metadata": {},
   "source": [
    "This agrees with the plot above (i.e., we see in both the list and the plot that the 20th element is D19_SOZIALES)."
   ]
  },
  {
   "cell_type": "markdown",
   "id": "1706c7b7",
   "metadata": {},
   "source": [
    "We shall remove these columns shortly."
   ]
  },
  {
   "cell_type": "code",
   "execution_count": 20,
   "id": "d862f6ba",
   "metadata": {},
   "outputs": [
    {
     "data": {
      "text/plain": [
       "537799    259\n",
       "350182    259\n",
       "55664     259\n",
       "826869    259\n",
       "373501    259\n",
       "dtype: int64"
      ]
     },
     "execution_count": 20,
     "metadata": {},
     "output_type": "execute_result"
    }
   ],
   "source": [
    "# Rows\n",
    "null_azidas_rows = azdias.isnull().sum(axis=1)\n",
    "null_azidas_rows.sort_values(ascending = False, inplace = True)\n",
    "null_azidas_rows.head()"
   ]
  },
  {
   "cell_type": "code",
   "execution_count": 21,
   "id": "de305d57",
   "metadata": {},
   "outputs": [
    {
     "name": "stdout",
     "output_type": "stream",
     "text": [
      "For each row, what percentage of the values are null?\n"
     ]
    },
    {
     "data": {
      "text/plain": [
       "537799    72.131148\n",
       "826869    72.131148\n",
       "350182    71.857923\n",
       "373501    71.857923\n",
       "55664     71.857923\n",
       "dtype: float64"
      ]
     },
     "execution_count": 21,
     "metadata": {},
     "output_type": "execute_result"
    }
   ],
   "source": [
    "# Rows\n",
    "null_azidas_rows_percent= 100 * azdias_clean.isnull().sum(axis=1) / (azdias_clean.shape[1])\n",
    "null_azidas_rows_percent.sort_values(ascending = False, inplace = True)\n",
    "print(\"For each row, what percentage of the values are null?\")\n",
    "null_azidas_rows_percent.head(5)"
   ]
  },
  {
   "cell_type": "code",
   "execution_count": 22,
   "id": "b00a2a5a",
   "metadata": {},
   "outputs": [
    {
     "data": {
      "image/png": "[encoded data removed]",
      "text/plain": [
       "<Figure size 432x288 with 1 Axes>"
      ]
     },
     "metadata": {
      "needs_background": "light"
     },
     "output_type": "display_data"
    }
   ],
   "source": [
    "plt.hist(null_azidas_rows_percent);\n",
    "plt.xlabel('Percentage missing');\n",
    "plt.ylabel('Number of rows');"
   ]
  },
  {
   "cell_type": "markdown",
   "id": "858f78f6",
   "metadata": {},
   "source": [
    "Most of the rows seem have to have less than 10% of their values missing."
   ]
  },
  {
   "cell_type": "code",
   "execution_count": 23,
   "id": "8cce989b",
   "metadata": {},
   "outputs": [
    {
     "name": "stdout",
     "output_type": "stream",
     "text": [
      "What percentage of rows has less than 10% null? 82.64785053314498\n"
     ]
    }
   ],
   "source": [
    "cut_off = sum(null_azidas_rows_percent < 10) / len(null_azidas_rows_percent)\n",
    "print(\"What percentage of rows has less than 10% null?\", 100*cut_off)"
   ]
  },
  {
   "cell_type": "code",
   "execution_count": 24,
   "id": "d73284e6",
   "metadata": {},
   "outputs": [
    {
     "data": {
      "image/png": "[encoded data removed]",
      "text/plain": [
       "<Figure size 1152x432 with 1 Axes>"
      ]
     },
     "metadata": {
      "needs_background": "light"
     },
     "output_type": "display_data"
    }
   ],
   "source": [
    "plt.figure(figsize = (16,6))\n",
    "percent = 100\n",
    "number = int(0.01*percent*azdias_clean.shape[0])\n",
    "to_plot = null_azidas_rows_percent.head(number).copy()\n",
    "new_index = np.arange(0, len(to_plot) )\n",
    "new_index = np.linspace(0, percent, len(to_plot))\n",
    "plt.plot(new_index, to_plot);\n",
    "plt.xlabel('Cumulative percentage of rows'); plt.ylabel('Percentage of nulls in rows')\n",
    "plt.axhline(10, linestyle = 'dotted', color = 'red');\n",
    "plt.axvline(100*(1-cut_off), linestyle = 'dotted', color = 'red');\n",
    "plt.tight_layout()\n",
    "plt.savefig('images/Rows with nulls.png')"
   ]
  },
  {
   "cell_type": "code",
   "execution_count": 25,
   "id": "fb90d75f",
   "metadata": {},
   "outputs": [
    {
     "name": "stdout",
     "output_type": "stream",
     "text": [
      "In other words, if we want any row to contain only a maximum of 10% null values, we need to remove 17% of the rows.\n"
     ]
    }
   ],
   "source": [
    "print(\"In other words, if we want any row to contain only a maximum of 10% null values, we need to remove {}% of the rows.\".format(round(100*(1-cut_off))))"
   ]
  },
  {
   "cell_type": "code",
   "execution_count": 26,
   "id": "df982a6a",
   "metadata": {},
   "outputs": [
    {
     "name": "stdout",
     "output_type": "stream",
     "text": [
      "So we need to drop rows containing more than 36.0 missing values.\n"
     ]
    }
   ],
   "source": [
    "missing_values_threshold = np.floor(azdias_clean.shape[1]*0.1)\n",
    "print(\"So we need to drop rows containing more than {} missing values.\".format(missing_values_threshold))"
   ]
  },
  {
   "cell_type": "markdown",
   "id": "5d4da838",
   "metadata": {},
   "source": [
    "We will now drop the appropriate columns and rows using the drop_columns_and_rows() function imported from `utils`:"
   ]
  },
  {
   "cell_type": "code",
   "execution_count": 27,
   "id": "22ed6f3b",
   "metadata": {},
   "outputs": [
    {
     "name": "stdout",
     "output_type": "stream",
     "text": [
      "Help on function drop_columns_and_rows in module utils:\n",
      "\n",
      "drop_columns_and_rows(df, columns_to_drop, missing_values_threshold_row=inf)\n",
      "    Drops columns from df that are in columns_to_drop.\n",
      "    Drops rows where the number of missing values is above missing_values_threshold_row\n",
      "    If no missing_values_threshold_row is supplied, no rows are removed.\n",
      "\n"
     ]
    }
   ],
   "source": [
    "help(drop_columns_and_rows)"
   ]
  },
  {
   "cell_type": "code",
   "execution_count": 28,
   "id": "e33de3cc",
   "metadata": {},
   "outputs": [],
   "source": [
    "azdias_clean = drop_columns_and_rows(azdias_clean, columns_missing_20_percent, missing_values_threshold)\n",
    "customers_clean = drop_columns_and_rows(customers_clean,columns_missing_20_percent, missing_values_threshold)"
   ]
  },
  {
   "cell_type": "markdown",
   "id": "5516fc5f",
   "metadata": {},
   "source": [
    "# Categorical variables"
   ]
  },
  {
   "cell_type": "markdown",
   "id": "cc6ea063",
   "metadata": {},
   "source": [
    "We shall now handle categorical variables using the handle_categorical() function imported from `utils`:"
   ]
  },
  {
   "cell_type": "code",
   "execution_count": 29,
   "id": "ea54d46d",
   "metadata": {},
   "outputs": [
    {
     "name": "stdout",
     "output_type": "stream",
     "text": [
      "Help on function handle_categorical in module utils:\n",
      "\n",
      "handle_categorical(df_original, categories_to_handle)\n",
      "    Check which columns from categories_to_handle contain non binary non-numerical values\n",
      "    \n",
      "    Convert these categorical variables into dummy/indicator variables. \n",
      "    New columns are created. (Original categorical variables are dropped)\n",
      "    \n",
      "    \n",
      "    This function also drops from df_original the following undocumented columns:\n",
      "    'EINGEFUEGT_AM', 'CAMEO_INTL_2015'\n",
      "    This function drops D19_LETZTER_KAUF_BRANCHE because it contains too many unique values\n",
      "\n"
     ]
    }
   ],
   "source": [
    "help(handle_categorical)"
   ]
  },
  {
   "cell_type": "markdown",
   "id": "395740ff",
   "metadata": {},
   "source": [
    "I have manually identified the categorical variables from the Excel documentation and stored them in the categorical_variables variable."
   ]
  },
  {
   "cell_type": "code",
   "execution_count": 30,
   "id": "8ae25709",
   "metadata": {},
   "outputs": [
    {
     "name": "stdout",
     "output_type": "stream",
     "text": [
      "Original columns are dropped\n"
     ]
    }
   ],
   "source": [
    "categories_not_in_azdias = set(categorical_variables)-set(azdias_clean.columns)\n",
    "categories_in_azdias = set(categorical_variables)-set(categories_not_in_azdias)\n",
    "azdias_new  = handle_categorical(df_original=azdias_clean, categories_to_handle = categories_in_azdias)"
   ]
  },
  {
   "cell_type": "code",
   "execution_count": 31,
   "id": "cd2ec7f7",
   "metadata": {},
   "outputs": [
    {
     "data": {
      "text/plain": [
       "(737287, 458)"
      ]
     },
     "execution_count": 31,
     "metadata": {},
     "output_type": "execute_result"
    }
   ],
   "source": [
    "azdias_new.shape"
   ]
  },
  {
   "cell_type": "markdown",
   "id": "6e5d6852",
   "metadata": {},
   "source": [
    "Let us now do the same for the `customers` data frame"
   ]
  },
  {
   "cell_type": "code",
   "execution_count": 32,
   "id": "e8208c04",
   "metadata": {},
   "outputs": [
    {
     "name": "stdout",
     "output_type": "stream",
     "text": [
      "(191652, 369)\n",
      "(134246, 349)\n",
      "Original columns are dropped\n"
     ]
    }
   ],
   "source": [
    "customers_clean = replace_symbols_with_nan(customers, customers.columns[[18,19]], symbols)\n",
    "customers_clean = unknown_to_nan(customers_clean, value_of_unknown)\n",
    "print(customers_clean.shape)\n",
    "customers_clean = drop_columns_and_rows(customers_clean, columns_missing_20_percent, missing_values_threshold_row=36)\n",
    "print(customers_clean.shape)\n",
    "customers_new = handle_categorical(df_original=customers_clean, categories_to_handle=categories_in_azdias)"
   ]
  },
  {
   "cell_type": "markdown",
   "id": "f7be9a46",
   "metadata": {},
   "source": [
    "Let us also drop the columns which are not common to azdias and customers"
   ]
  },
  {
   "cell_type": "code",
   "execution_count": 33,
   "id": "09a8a631",
   "metadata": {},
   "outputs": [
    {
     "name": "stdout",
     "output_type": "stream",
     "text": [
      "The columns to be dropped are ['CUSTOMER_GROUP', 'ONLINE_PURCHASE', 'PRODUCT_GROUP']\n"
     ]
    },
    {
     "data": {
      "text/plain": [
       "(134246, 457)"
      ]
     },
     "execution_count": 33,
     "metadata": {},
     "output_type": "execute_result"
    }
   ],
   "source": [
    "unmatched = (customers_new.columns).difference(azdias_new.columns).to_list() # Same as: set(customers.columns)-set(azdias.columns)\n",
    "print(\"The columns to be dropped are {}\".format(unmatched))\n",
    "customers_new = drop_columns_and_rows(df=customers_new, columns_to_drop=unmatched, missing_values_threshold_row=np.inf)\n",
    "customers_new.shape"
   ]
  },
  {
   "cell_type": "markdown",
   "id": "d90914d7",
   "metadata": {},
   "source": [
    "# Imputing missing values"
   ]
  },
  {
   "cell_type": "markdown",
   "id": "bb64909d",
   "metadata": {},
   "source": [
    "We shall completing missing values using the median value."
   ]
  },
  {
   "cell_type": "code",
   "execution_count": 34,
   "id": "b7664579",
   "metadata": {},
   "outputs": [],
   "source": [
    "imp_median = SimpleImputer(missing_values=np.nan, strategy='median') "
   ]
  },
  {
   "cell_type": "code",
   "execution_count": 35,
   "id": "8c3e8836",
   "metadata": {},
   "outputs": [
    {
     "name": "stdout",
     "output_type": "stream",
     "text": [
      "Before imputation, number of missing values:  373288\n",
      "After imputation, number of missing values:  0\n"
     ]
    }
   ],
   "source": [
    "print(\"Before imputation, number of missing values: \", azdias_new.isna().sum().sum())\n",
    "azdias_new = pd.DataFrame(imp_median.fit_transform(azdias_new), columns = azdias_new.columns)\n",
    "print(\"After imputation, number of missing values: \", azdias_new.isna().sum().sum())"
   ]
  },
  {
   "cell_type": "code",
   "execution_count": 36,
   "id": "cfb04395",
   "metadata": {},
   "outputs": [
    {
     "name": "stdout",
     "output_type": "stream",
     "text": [
      "Before imputation, number of missing values:  95499\n",
      "After imputation, number of missing values:  0\n"
     ]
    }
   ],
   "source": [
    "print(\"Before imputation, number of missing values: \", customers_new.isna().sum().sum())\n",
    "customers_new = pd.DataFrame(imp_median.fit_transform(customers_new), columns = customers_new.columns)\n",
    "print(\"After imputation, number of missing values: \", customers_new.isna().sum().sum())"
   ]
  },
  {
   "cell_type": "markdown",
   "id": "27c3ca06",
   "metadata": {},
   "source": [
    "# Rescaling"
   ]
  },
  {
   "cell_type": "markdown",
   "id": "72327ad1",
   "metadata": {},
   "source": [
    "To finish data wrangling, we must scale the features because we will be performing principal component analysis (PCA) next and PCA requires that the components be converted to normalized units (so that their ranges are comparable.)"
   ]
  },
  {
   "cell_type": "code",
   "execution_count": 37,
   "id": "7bac84aa",
   "metadata": {},
   "outputs": [],
   "source": [
    "scaling_for_pca = StandardScaler()"
   ]
  },
  {
   "cell_type": "code",
   "execution_count": 38,
   "id": "fef6ee50",
   "metadata": {},
   "outputs": [],
   "source": [
    "azdias_final = pd.DataFrame(scaling_for_pca.fit_transform(azdias_new), columns = azdias_new.columns)"
   ]
  },
  {
   "cell_type": "code",
   "execution_count": 39,
   "id": "59bc6e9f",
   "metadata": {},
   "outputs": [],
   "source": [
    "customers_final = pd.DataFrame(scaling_for_pca.fit_transform(customers_new), columns = customers_new.columns)"
   ]
  },
  {
   "cell_type": "code",
   "execution_count": 40,
   "id": "23e462ba",
   "metadata": {},
   "outputs": [],
   "source": [
    "azdias_final.to_pickle('data/azdias_final.pkl')"
   ]
  },
  {
   "cell_type": "code",
   "execution_count": 41,
   "id": "b6b7a07f",
   "metadata": {},
   "outputs": [],
   "source": [
    "customers_final.to_pickle('data/customers_final.pkl')"
   ]
  }
 ],
 "metadata": {
  "kernelspec": {
   "display_name": "Python 3",
   "language": "python",
   "name": "python3"
  },
  "language_info": {
   "codemirror_mode": {
    "name": "ipython",
    "version": 3
   },
   "file_extension": ".py",
   "mimetype": "text/x-python",
   "name": "python",
   "nbconvert_exporter": "python",
   "pygments_lexer": "ipython3",
   "version": "3.9.5"
  }
 },
 "nbformat": 4,
 "nbformat_minor": 5
}
