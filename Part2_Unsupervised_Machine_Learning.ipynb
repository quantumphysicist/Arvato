{
 "cells": [
  {
   "cell_type": "code",
   "execution_count": 1,
   "id": "7c553c32",
   "metadata": {},
   "outputs": [],
   "source": [
    "# Visualization imports & configuration\n",
    "import matplotlib.pyplot as plt\n",
    "import matplotlib as mpl\n",
    "\n",
    "mpl.rcParams['xtick.labelsize'] = 18\n",
    "mpl.rcParams['ytick.labelsize'] = 18\n",
    "mpl.rcParams['axes.titlesize'] = 20\n",
    "mpl.rcParams['axes.labelsize'] = 20\n",
    "\n",
    "%matplotlib inline"
   ]
  },
  {
   "cell_type": "code",
   "execution_count": 2,
   "id": "b15beb8b",
   "metadata": {},
   "outputs": [],
   "source": [
    "import time\n",
    "\n",
    "from sklearn.pipeline import Pipeline"
   ]
  },
  {
   "cell_type": "code",
   "execution_count": 3,
   "id": "11df6984",
   "metadata": {},
   "outputs": [],
   "source": [
    "location = \"data//\""
   ]
  },
  {
   "cell_type": "code",
   "execution_count": 4,
   "id": "d11bc4e2",
   "metadata": {},
   "outputs": [],
   "source": [
    "azdias = pd.read_pickle(location+'azdias_final.pkl')"
   ]
  },
  {
   "cell_type": "code",
   "execution_count": 5,
   "id": "6367b061",
   "metadata": {},
   "outputs": [
    {
     "data": {
      "text/plain": [
       "(737287, 458)"
      ]
     },
     "execution_count": 5,
     "metadata": {},
     "output_type": "execute_result"
    }
   ],
   "source": [
    "azdias.shape"
   ]
  },
  {
   "cell_type": "markdown",
   "id": "2dcc6c7f",
   "metadata": {},
   "source": [
    "## Part 2: Customer Segmentation Report\n",
    "\n",
    "The main bulk of our analysis is in this part of the project. \n",
    "\n",
    "Here, we use unsupervised learning techniques to describe the relationship between the demographics of the company's existing customers and the general population of Germany. \n",
    "\n",
    "By the end of this part, we will able to describe: \n",
    "\n",
    "(1) Which parts of the general population are *more* likely to be part of the mail-order company's main customer base?  \n",
    "(2) Which parts of the general population are *less* likely to be part of the mail-order company's main customer base? "
   ]
  },
  {
   "cell_type": "markdown",
   "id": "dc545866",
   "metadata": {},
   "source": [
    "We can begin by applying principle component analysis (PCA) to reduce the number of features."
   ]
  },
  {
   "cell_type": "markdown",
   "id": "48beedad",
   "metadata": {},
   "source": [
    "# Principle Component Analysis (PCA)"
   ]
  },
  {
   "cell_type": "code",
   "execution_count": 6,
   "id": "baa2c20c",
   "metadata": {},
   "outputs": [],
   "source": [
    "from sklearn.decomposition import PCA"
   ]
  },
  {
   "cell_type": "code",
   "execution_count": 7,
   "id": "f9b3a057",
   "metadata": {},
   "outputs": [
    {
     "data": {
      "text/plain": [
       "458"
      ]
     },
     "execution_count": 7,
     "metadata": {},
     "output_type": "execute_result"
    }
   ],
   "source": [
    "pca = PCA().fit(azdias)\n",
    "len(pca.explained_variance_ratio_)"
   ]
  },
  {
   "cell_type": "code",
   "execution_count": 8,
   "id": "a625b970",
   "metadata": {},
   "outputs": [
    {
     "data": {
      "text/html": [
       "<div>\n",
       "<style scoped>\n",
       "    .dataframe tbody tr th:only-of-type {\n",
       "        vertical-align: middle;\n",
       "    }\n",
       "\n",
       "    .dataframe tbody tr th {\n",
       "        vertical-align: top;\n",
       "    }\n",
       "\n",
       "    .dataframe thead th {\n",
       "        text-align: right;\n",
       "    }\n",
       "</style>\n",
       "<table border=\"1\" class=\"dataframe\">\n",
       "  <thead>\n",
       "    <tr style=\"text-align: right;\">\n",
       "      <th></th>\n",
       "      <th>0</th>\n",
       "    </tr>\n",
       "  </thead>\n",
       "  <tbody>\n",
       "    <tr>\n",
       "      <th>1</th>\n",
       "      <td>0.066676</td>\n",
       "    </tr>\n",
       "    <tr>\n",
       "      <th>2</th>\n",
       "      <td>0.040948</td>\n",
       "    </tr>\n",
       "    <tr>\n",
       "      <th>3</th>\n",
       "      <td>0.039697</td>\n",
       "    </tr>\n",
       "    <tr>\n",
       "      <th>4</th>\n",
       "      <td>0.030616</td>\n",
       "    </tr>\n",
       "    <tr>\n",
       "      <th>5</th>\n",
       "      <td>0.019067</td>\n",
       "    </tr>\n",
       "  </tbody>\n",
       "</table>\n",
       "</div>"
      ],
      "text/plain": [
       "          0\n",
       "1  0.066676\n",
       "2  0.040948\n",
       "3  0.039697\n",
       "4  0.030616\n",
       "5  0.019067"
      ]
     },
     "execution_count": 8,
     "metadata": {},
     "output_type": "execute_result"
    }
   ],
   "source": [
    "pca_variance_by_component = pd.DataFrame(pca.explained_variance_ratio_)\n",
    "pca_variance_by_component.index += 1\n",
    "pca_variance_by_component.head()"
   ]
  },
  {
   "cell_type": "code",
   "execution_count": 9,
   "id": "c56314d3",
   "metadata": {},
   "outputs": [
    {
     "data": {
      "text/html": [
       "<div>\n",
       "<style scoped>\n",
       "    .dataframe tbody tr th:only-of-type {\n",
       "        vertical-align: middle;\n",
       "    }\n",
       "\n",
       "    .dataframe tbody tr th {\n",
       "        vertical-align: top;\n",
       "    }\n",
       "\n",
       "    .dataframe thead th {\n",
       "        text-align: right;\n",
       "    }\n",
       "</style>\n",
       "<table border=\"1\" class=\"dataframe\">\n",
       "  <thead>\n",
       "    <tr style=\"text-align: right;\">\n",
       "      <th></th>\n",
       "      <th>Cumulative Variance</th>\n",
       "    </tr>\n",
       "  </thead>\n",
       "  <tbody>\n",
       "    <tr>\n",
       "      <th>0</th>\n",
       "      <td>0.066676</td>\n",
       "    </tr>\n",
       "    <tr>\n",
       "      <th>1</th>\n",
       "      <td>0.107624</td>\n",
       "    </tr>\n",
       "    <tr>\n",
       "      <th>2</th>\n",
       "      <td>0.147321</td>\n",
       "    </tr>\n",
       "    <tr>\n",
       "      <th>3</th>\n",
       "      <td>0.177938</td>\n",
       "    </tr>\n",
       "    <tr>\n",
       "      <th>4</th>\n",
       "      <td>0.197004</td>\n",
       "    </tr>\n",
       "  </tbody>\n",
       "</table>\n",
       "</div>"
      ],
      "text/plain": [
       "   Cumulative Variance\n",
       "0             0.066676\n",
       "1             0.107624\n",
       "2             0.147321\n",
       "3             0.177938\n",
       "4             0.197004"
      ]
     },
     "execution_count": 9,
     "metadata": {},
     "output_type": "execute_result"
    }
   ],
   "source": [
    "cumulative_pca_variance = pd.DataFrame(pca_variance_by_component.cumsum().values, columns = ['Cumulative Variance'])\n",
    "cumulative_pca_variance.head()"
   ]
  },
  {
   "cell_type": "code",
   "execution_count": 10,
   "id": "57f068c3",
   "metadata": {},
   "outputs": [],
   "source": [
    "centile85 = cumulative_pca_variance[cumulative_pca_variance['Cumulative Variance']>0.85].index[0]\n",
    "centile90 = cumulative_pca_variance[cumulative_pca_variance['Cumulative Variance']>0.9].index[0]\n",
    "centile95 = cumulative_pca_variance[cumulative_pca_variance['Cumulative Variance']>0.95].index[0]"
   ]
  },
  {
   "cell_type": "code",
   "execution_count": 11,
   "id": "983c8f9b",
   "metadata": {},
   "outputs": [
    {
     "data": {
      "image/png": "[encoded data removed]",
      "text/plain": [
       "<Figure size 1152x432 with 1 Axes>"
      ]
     },
     "metadata": {
      "needs_background": "light"
     },
     "output_type": "display_data"
    }
   ],
   "source": [
    "plt.figure(figsize = (16,6))\n",
    "plt.plot(cumulative_pca_variance*100)\n",
    "plt.axhline(85, linestyle = 'dotted')\n",
    "plt.axvline(centile85, linestyle = 'dotted')\n",
    "plt.axhline(95, linestyle = 'dotted')\n",
    "plt.axvline(centile95, linestyle = 'dotted')\n",
    "plt.axhline(90, linestyle = 'dotted')\n",
    "plt.axvline(centile90, linestyle = 'dotted')\n",
    "plt.xlabel('Number of components')\n",
    "plt.ylabel('Percentage of \\nvariance explained')\n",
    "plt.tight_layout()\n",
    "plt.savefig('images/PCA.png')"
   ]
  },
  {
   "cell_type": "code",
   "execution_count": 12,
   "id": "9360f51d",
   "metadata": {},
   "outputs": [
    {
     "name": "stdout",
     "output_type": "stream",
     "text": [
      "208 243 292\n",
      "0.45414847161572053 0.5305676855895196 0.6375545851528385\n"
     ]
    }
   ],
   "source": [
    "print(centile85,centile90,centile95)\n",
    "print(centile85/len(pca.explained_variance_ratio_), centile90/len(pca.explained_variance_ratio_), centile95/len(pca.explained_variance_ratio_))"
   ]
  },
  {
   "cell_type": "markdown",
   "id": "ad44e050",
   "metadata": {},
   "source": [
    "With 45\\% of the components (208 out of 458) we can explain 85% of variance the data."
   ]
  },
  {
   "cell_type": "code",
   "execution_count": 13,
   "id": "9edbf70a",
   "metadata": {},
   "outputs": [],
   "source": [
    "pca = PCA(n_components = 208).fit(azdias)\n",
    "azdias_small = pd.DataFrame(pca.transform(azdias))"
   ]
  },
  {
   "cell_type": "code",
   "execution_count": 14,
   "id": "306bc4b5",
   "metadata": {},
   "outputs": [
    {
     "data": {
      "text/html": [
       "<div>\n",
       "<style scoped>\n",
       "    .dataframe tbody tr th:only-of-type {\n",
       "        vertical-align: middle;\n",
       "    }\n",
       "\n",
       "    .dataframe tbody tr th {\n",
       "        vertical-align: top;\n",
       "    }\n",
       "\n",
       "    .dataframe thead th {\n",
       "        text-align: right;\n",
       "    }\n",
       "</style>\n",
       "<table border=\"1\" class=\"dataframe\">\n",
       "  <thead>\n",
       "    <tr style=\"text-align: right;\">\n",
       "      <th></th>\n",
       "      <th>0</th>\n",
       "    </tr>\n",
       "  </thead>\n",
       "  <tbody>\n",
       "    <tr>\n",
       "      <th>1</th>\n",
       "      <td>0.066676</td>\n",
       "    </tr>\n",
       "    <tr>\n",
       "      <th>2</th>\n",
       "      <td>0.040948</td>\n",
       "    </tr>\n",
       "    <tr>\n",
       "      <th>3</th>\n",
       "      <td>0.039697</td>\n",
       "    </tr>\n",
       "    <tr>\n",
       "      <th>4</th>\n",
       "      <td>0.030616</td>\n",
       "    </tr>\n",
       "    <tr>\n",
       "      <th>5</th>\n",
       "      <td>0.019067</td>\n",
       "    </tr>\n",
       "    <tr>\n",
       "      <th>6</th>\n",
       "      <td>0.016312</td>\n",
       "    </tr>\n",
       "    <tr>\n",
       "      <th>7</th>\n",
       "      <td>0.015334</td>\n",
       "    </tr>\n",
       "    <tr>\n",
       "      <th>8</th>\n",
       "      <td>0.013579</td>\n",
       "    </tr>\n",
       "    <tr>\n",
       "      <th>9</th>\n",
       "      <td>0.012479</td>\n",
       "    </tr>\n",
       "    <tr>\n",
       "      <th>10</th>\n",
       "      <td>0.011323</td>\n",
       "    </tr>\n",
       "  </tbody>\n",
       "</table>\n",
       "</div>"
      ],
      "text/plain": [
       "           0\n",
       "1   0.066676\n",
       "2   0.040948\n",
       "3   0.039697\n",
       "4   0.030616\n",
       "5   0.019067\n",
       "6   0.016312\n",
       "7   0.015334\n",
       "8   0.013579\n",
       "9   0.012479\n",
       "10  0.011323"
      ]
     },
     "execution_count": 14,
     "metadata": {},
     "output_type": "execute_result"
    }
   ],
   "source": [
    "pca_variance_by_component = pd.DataFrame(pca.explained_variance_ratio_)\n",
    "pca_variance_by_component.index += 1\n",
    "pca_variance_by_component.head(10)"
   ]
  },
  {
   "cell_type": "markdown",
   "id": "ccf6a0fa",
   "metadata": {},
   "source": [
    "By visual inspection we can see that the top 4 explain the most variance."
   ]
  },
  {
   "cell_type": "code",
   "execution_count": 15,
   "id": "0706cde9",
   "metadata": {},
   "outputs": [
    {
     "data": {
      "text/plain": [
       "0    0.177938\n",
       "dtype: float64"
      ]
     },
     "execution_count": 15,
     "metadata": {},
     "output_type": "execute_result"
    }
   ],
   "source": [
    "pca_variance_by_component[0:4].sum()"
   ]
  },
  {
   "cell_type": "markdown",
   "id": "7572636c",
   "metadata": {},
   "source": [
    "Let us now look at these four components, starting with component 1."
   ]
  },
  {
   "cell_type": "markdown",
   "id": "723831a9",
   "metadata": {},
   "source": [
    "By looking at the highest positive weightings we can discover which properties make a person ***more*** likely to be a customer."
   ]
  },
  {
   "cell_type": "code",
   "execution_count": 16,
   "id": "0a9144ff",
   "metadata": {},
   "outputs": [
    {
     "data": {
      "text/html": [
       "<div>\n",
       "<style scoped>\n",
       "    .dataframe tbody tr th:only-of-type {\n",
       "        vertical-align: middle;\n",
       "    }\n",
       "\n",
       "    .dataframe tbody tr th {\n",
       "        vertical-align: top;\n",
       "    }\n",
       "\n",
       "    .dataframe thead th {\n",
       "        text-align: right;\n",
       "    }\n",
       "</style>\n",
       "<table border=\"1\" class=\"dataframe\">\n",
       "  <thead>\n",
       "    <tr style=\"text-align: right;\">\n",
       "      <th></th>\n",
       "      <th>weightings</th>\n",
       "    </tr>\n",
       "  </thead>\n",
       "  <tbody>\n",
       "    <tr>\n",
       "      <th>MOBI_REGIO</th>\n",
       "      <td>0.138722</td>\n",
       "    </tr>\n",
       "    <tr>\n",
       "      <th>PLZ8_ANTG1</th>\n",
       "      <td>0.131941</td>\n",
       "    </tr>\n",
       "    <tr>\n",
       "      <th>KBA13_ANTG1</th>\n",
       "      <td>0.131334</td>\n",
       "    </tr>\n",
       "    <tr>\n",
       "      <th>LP_STATUS_FEIN</th>\n",
       "      <td>0.129334</td>\n",
       "    </tr>\n",
       "    <tr>\n",
       "      <th>KBA05_ANTG1</th>\n",
       "      <td>0.128395</td>\n",
       "    </tr>\n",
       "  </tbody>\n",
       "</table>\n",
       "</div>"
      ],
      "text/plain": [
       "                weightings\n",
       "MOBI_REGIO        0.138722\n",
       "PLZ8_ANTG1        0.131941\n",
       "KBA13_ANTG1       0.131334\n",
       "LP_STATUS_FEIN    0.129334\n",
       "KBA05_ANTG1       0.128395"
      ]
     },
     "execution_count": 16,
     "metadata": {},
     "output_type": "execute_result"
    }
   ],
   "source": [
    "weightings = pca.components_[0]\n",
    "features_df = pd.DataFrame(weightings, index = azdias.columns, columns = [\"weightings\"])\n",
    "features_df.sort_values(by = \"weightings\", ascending = False, inplace = True)\n",
    "features_df.head(5)"
   ]
  },
  {
   "cell_type": "markdown",
   "id": "109f1b89",
   "metadata": {},
   "source": [
    "Checking with the Excel documentation, we can understand what each of these are. They are as follows, where I have grouped appropriate items together:"
   ]
  },
  {
   "cell_type": "markdown",
   "id": "5f8ec688",
   "metadata": {},
   "source": [
    "(MOBI_REGIO) Higher mobility  \n",
    "(KBA13_ANTG1) very high mobility \n",
    " \n",
    "(PLZ8_ANTG1)  number of 1-2 family houses in the PLZ8  \n",
    "(KBA05_ANTG1) number of 1-2 family houses in the cell \n",
    "\n",
    "(LP_STATUS_FEIN)  Higher income "
   ]
  },
  {
   "cell_type": "markdown",
   "id": "5ef64f9f",
   "metadata": {},
   "source": [
    "Now, by looking at the highest negative weightings, we can discover which properties make a person ***less*** likely to be a customer."
   ]
  },
  {
   "cell_type": "code",
   "execution_count": 17,
   "id": "1da754a1",
   "metadata": {},
   "outputs": [
    {
     "data": {
      "text/html": [
       "<div>\n",
       "<style scoped>\n",
       "    .dataframe tbody tr th:only-of-type {\n",
       "        vertical-align: middle;\n",
       "    }\n",
       "\n",
       "    .dataframe tbody tr th {\n",
       "        vertical-align: top;\n",
       "    }\n",
       "\n",
       "    .dataframe thead th {\n",
       "        text-align: right;\n",
       "    }\n",
       "</style>\n",
       "<table border=\"1\" class=\"dataframe\">\n",
       "  <thead>\n",
       "    <tr style=\"text-align: right;\">\n",
       "      <th></th>\n",
       "      <th>weightings</th>\n",
       "    </tr>\n",
       "  </thead>\n",
       "  <tbody>\n",
       "    <tr>\n",
       "      <th>PLZ8_ANTG4</th>\n",
       "      <td>-0.125515</td>\n",
       "    </tr>\n",
       "    <tr>\n",
       "      <th>KBA13_BAUMAX</th>\n",
       "      <td>-0.125922</td>\n",
       "    </tr>\n",
       "    <tr>\n",
       "      <th>KBA13_ANTG4</th>\n",
       "      <td>-0.126573</td>\n",
       "    </tr>\n",
       "    <tr>\n",
       "      <th>KBA13_ANTG3</th>\n",
       "      <td>-0.130194</td>\n",
       "    </tr>\n",
       "    <tr>\n",
       "      <th>PLZ8_ANTG3</th>\n",
       "      <td>-0.130898</td>\n",
       "    </tr>\n",
       "  </tbody>\n",
       "</table>\n",
       "</div>"
      ],
      "text/plain": [
       "              weightings\n",
       "PLZ8_ANTG4     -0.125515\n",
       "KBA13_BAUMAX   -0.125922\n",
       "KBA13_ANTG4    -0.126573\n",
       "KBA13_ANTG3    -0.130194\n",
       "PLZ8_ANTG3     -0.130898"
      ]
     },
     "execution_count": 17,
     "metadata": {},
     "output_type": "execute_result"
    }
   ],
   "source": [
    "weightings = pca.components_[0]\n",
    "features_df = pd.DataFrame(weightings, index = azdias.columns, columns = [\"weightings\"])\n",
    "features_df.sort_values(by = \"weightings\", ascending = False, inplace = True)\n",
    "features_df.tail(5)"
   ]
  },
  {
   "cell_type": "markdown",
   "id": "e09828f1",
   "metadata": {},
   "source": [
    "(KBA13_ANTG4) low mobility       \n",
    "(KBA13_ANTG3)  middle mobility   \n",
    "\n",
    "(PLZ8_ANTG4)  number of family houses containing more than 10 people in the neighbourhood    \n",
    "(KBA13_BAUMAX)   family homes containing higher numbers of people    \n",
    "(PLZ8_ANTG3) number of family houses containing 6-10 people in the PLZ8     "
   ]
  },
  {
   "cell_type": "markdown",
   "id": "b2211446",
   "metadata": {},
   "source": [
    "Before summarizing, let us note that these categories are the opposite of what we found above as we would expect. This serves as an error check because if this had not been the case we would have had to recheck all the preceding steps to figure out why our expectations had been breached."
   ]
  },
  {
   "cell_type": "markdown",
   "id": "e12d0f85",
   "metadata": {},
   "source": [
    "**Summary: Component 1 tracks the moving patterns, the size of houses and the social status.**\n",
    "\n",
    "**More likely to be customers:**\n",
    "- higher mobility\n",
    "- houses with fewer people\n",
    "- higher social status\n",
    "\n",
    "**Less likely to be customers:**\n",
    "- low mobility\n",
    "- houses with more people\n",
    "- lower social status"
   ]
  },
  {
   "cell_type": "markdown",
   "id": "be64f215",
   "metadata": {},
   "source": [
    "Let us use a function to look up the attributes in the Excel documentation. (We'll still need to do a little manually,)"
   ]
  },
  {
   "cell_type": "code",
   "execution_count": 18,
   "id": "4f7752ef",
   "metadata": {},
   "outputs": [],
   "source": [
    "file_loc = \"D:\\\\UDACITY-CAPSTONE-ARVATO\\\\\"\n",
    "attribute_description = pd.read_excel(file_loc+'DIAS Information Levels - Attributes 2017.xlsx', usecols='B:E', dtype='str', skiprows=1)\n",
    "# (file_loc+'DIAS Attributes - Values 2017.xlsx', usecols='B:E', dtype='str', skiprows=1)"
   ]
  },
  {
   "cell_type": "code",
   "execution_count": 19,
   "id": "8ed90736",
   "metadata": {},
   "outputs": [],
   "source": [
    "def get_features_from_pca(pca_component, features):\n",
    "    ''' For a particular pca_component, print out the description of each feature'''    \n",
    "    weightings = pca_component\n",
    "    features_df = pd.DataFrame(weightings, index = azdias.columns, columns = [\"weightings\"])\n",
    "    features_df.sort_values(by = \"weightings\", ascending = False, inplace = True)\n",
    "    print(\"-------Positive weightings-------\")\n",
    "    for attribute in features_df.head(5).index:\n",
    "        try: \n",
    "            #print((attr_values[attr_values.Attribute == attribute[0]]).Description.values[0])\n",
    "            print(attribute_description[attribute_description.Attribute == attribute].Description.values[0], end = \" \")\n",
    "            print(\"(\"+attribute+\")\")\n",
    "        except:\n",
    "            print(\"Meaning not found in documentation:\" + \"(\"+attribute+\")\")\n",
    "            pass\n",
    "            \n",
    "    print\n",
    "    print(\"-------Negative weightings-------\")\n",
    "    for attribute in features_df.tail(5).index:\n",
    "        try:\n",
    "            #print((attr_values[attr_values.Attribute == attribute[0]]).Description.values[0])\n",
    "            print(attribute_description[attribute_description.Attribute == attribute].Description.values[0], end = \" \")\n",
    "            print(\"(\"+attribute+\")\")\n",
    "        except:\n",
    "            print(\"Meaning not found in documentation:\" + \" (\"+attribute+\")\")\n",
    "            pass\n",
    "            "
   ]
  },
  {
   "cell_type": "code",
   "execution_count": 20,
   "id": "0c8c425c",
   "metadata": {},
   "outputs": [
    {
     "name": "stdout",
     "output_type": "stream",
     "text": [
      "-------Positive weightings-------\n",
      "dominating movement in the person's youth (avantgarde or mainstream) (PRAEGENDE_JUGENDJAHRE)\n",
      "financial typology: investor (FINANZ_ANLEGER)\n",
      "online affinity (ONLINE_AFFINITAET)\n",
      "financial typology: money saver (FINANZ_SPARER)\n",
      "Meaning not found in documentation:(CJT_TYP_1)\n",
      "-------Negative weightings-------\n",
      "age through prename analysis  (ALTERSKATEGORIE_GROB)\n",
      "Meaning not found in documentation: (CJT_TYP_6)\n",
      "Meaning not found in documentation: (CJT_TYP_5)\n",
      "Meaning not found in documentation: (CJT_TYP_4)\n",
      "financial typology: be prepared (FINANZ_VORSORGER)\n"
     ]
    }
   ],
   "source": [
    "get_features_from_pca(pca.components_[1], azdias.columns)"
   ]
  },
  {
   "cell_type": "markdown",
   "id": "ee0aceb4",
   "metadata": {},
   "source": [
    "Found manually from the documentation:  \n",
    "CJT_TYP : Customer-Journey-Typology relating to the preferred information and buying channels of consumers  \n",
    "        \n",
    "-------Positive weightings-------  \n",
    "CJT_TYP_1 Advertising- and Consumptionminimalist  \n",
    "\n",
    "-------Negative weightings-------  \n",
    "CJT_TYP_6 Advertising-Enthusiast with restricted Cross-Channel-Behaviour  \n",
    "CJT_TYP_5 Advertising- and Cross-Channel-Enthusiast  \n",
    "CJT_TYP_4 advertisinginterested Online-shopper   \n",
    "\n",
    "\n",
    "*Interestingly, this suggest that when we were cleaning the data, we need not have set this as a categorical variable because there does seem to be a natural numerical ordering with 1 being uninterested in advertising and 6 being enthusiastic about advertising. (It is tricky though because this typology also include other elements such as store versus online which do not have a natural ordering.)*"
   ]
  },
  {
   "cell_type": "markdown",
   "id": "9673b943",
   "metadata": {},
   "source": [
    "**Summary: Component 2 tracks the online affinity, whether the person's youth was dominated by avantgarde or mainstream movements and the financial typology.**\n",
    "    \n",
    "**More likely to be customers:**\n",
    "- financial typology: investor or money saver\n",
    "- less enthusiastic about advertising\n",
    "- lower online affinity (as expected for a mail-order company)\n",
    "\n",
    "**Less likely to be customers:**\n",
    "- financial typology: be prepared\n",
    "- more enthusiastic about advertising"
   ]
  },
  {
   "cell_type": "code",
   "execution_count": 21,
   "id": "85e39b7e",
   "metadata": {},
   "outputs": [
    {
     "name": "stdout",
     "output_type": "stream",
     "text": [
      "-------Positive weightings-------\n",
      "share of BMW & Mercedes Benz within the PLZ8 (KBA13_HERST_BMW_BENZ)\n",
      "share of upper middle class cars and upper class cars (BMW5er, BMW7er etc.) (KBA13_SEG_OBEREMITTELKLASSE)\n",
      "share of MERCEDES within the PLZ8 (KBA13_MERCEDES)\n",
      "share of BMW within the PLZ8 (KBA13_BMW)\n",
      "number of cars with less than 5 seats in the PLZ8 (KBA13_SITZE_4)\n",
      "-------Negative weightings-------\n",
      "share of cars with max speed between 140 and 210 km/h within the PLZ8 (KBA13_KMH_140_210)\n",
      "Meaning not found in documentation: (CJT_TYP_5)\n",
      "share of small and very small cars (Ford Fiesta, Ford Ka etc.) in the PLZ8 (KBA13_SEG_KLEINWAGEN)\n",
      "Meaning not found in documentation: (CJT_TYP_3)\n",
      "number of cars with 5 seats in the PLZ8 (KBA13_SITZE_5)\n"
     ]
    }
   ],
   "source": [
    "get_features_from_pca(pca.components_[2], azdias.columns)"
   ]
  },
  {
   "cell_type": "markdown",
   "id": "8b66a03a",
   "metadata": {},
   "source": [
    "**Summary: Component 3 tracks the type of car that the person uses.**\n",
    "\n",
    "**More likely to be customers:**\n",
    "- drives more expensive cars\n",
    "- drives smaller cars\n",
    "\n",
    "**Less likely to be customers:**\n",
    "- drives less expensive cars\n",
    "- drives bigger cars\n"
   ]
  },
  {
   "cell_type": "code",
   "execution_count": 22,
   "id": "09987512",
   "metadata": {},
   "outputs": [
    {
     "name": "stdout",
     "output_type": "stream",
     "text": [
      "-------Positive weightings-------\n",
      "Meaning not found in documentation:(D19_GESAMT_ANZ_24)\n",
      "Meaning not found in documentation:(D19_VERSAND_ANZ_24)\n",
      "Meaning not found in documentation:(D19_GESAMT_ANZ_12)\n",
      "financial typology: be prepared (FINANZ_VORSORGER)\n",
      "age through prename analysis  (ALTERSKATEGORIE_GROB)\n",
      "-------Negative weightings-------\n",
      "financial typology: unremarkable (FINANZ_UNAUFFAELLIGER)\n",
      "Meaning not found in documentation: (RT_KEIN_ANREIZ)\n",
      "financial typology: investor (FINANZ_ANLEGER)\n",
      "Meaning not found in documentation: (VK_DISTANZ)\n",
      "Meaning not found in documentation: (VK_ZG11)\n"
     ]
    }
   ],
   "source": [
    "get_features_from_pca(pca.components_[3], azdias.columns)"
   ]
  },
  {
   "cell_type": "markdown",
   "id": "db166029",
   "metadata": {},
   "source": [
    "D19_GESAMT_ANZ_ and D19_GESAMT_ANZ are all about transaction activities in the last 12 or 24 months.  \n",
    "RT_KEIN_ANREIZ is undocumented.  \n",
    "All VK_ are undocumented.  "
   ]
  },
  {
   "cell_type": "markdown",
   "id": "b0d97412",
   "metadata": {},
   "source": [
    "**Summary: Component 4 tracks the finance typology of the person and their age**\n",
    "\n",
    "**More likely to be customers:**\n",
    "- lower age\n",
    "- have made fewer transactions in the last 12 or 24 months\n",
    "- financial typology: \"be prepared\"\n",
    "\n",
    "**Less likely to be customers:**\n",
    "- financial typology: \"unremarkable\" and \"investor\"\n",
    "\n",
    "**Note: the financial typology here contradicts that from component 2**"
   ]
  },
  {
   "cell_type": "markdown",
   "id": "70b8c4e3",
   "metadata": {},
   "source": [
    "**Full Summary**\n",
    "\n",
    "**More likely to be customers:**\n",
    "- higher social status\n",
    "- higher mobility\n",
    "- live in neighborhoods containing houses with fewer people\n",
    "- less enthusiastic about advertising\n",
    "- lower online affinity (as expected for a mail-order company)\n",
    "- lower age\n",
    "- have made fewer transactions in the last 12 or 24 months\n",
    "- drives more expensive, smaller cars\n",
    "\n",
    "**Less likely to be customers:**\n",
    "- lower social status\n",
    "- low mobility\n",
    "- live in neighborhoods containing houses with more people\n",
    "- more enthusiastic about advertising\n",
    "- drives less expensive, bigger cars\n",
    "\n",
    "\n"
   ]
  },
  {
   "cell_type": "markdown",
   "id": "96db621d",
   "metadata": {},
   "source": [
    "# K-means clustering"
   ]
  },
  {
   "cell_type": "code",
   "execution_count": 23,
   "id": "9ba1a471",
   "metadata": {},
   "outputs": [
    {
     "name": "stdout",
     "output_type": "stream",
     "text": [
      "1 2 3 4 5 6 7 8 9 10 11 12 13 14 15 16 17 18 19 20 21 22 23 24 25 26 27 28 29 "
     ]
    }
   ],
   "source": [
    "from sklearn.cluster import KMeans\n",
    "# Initialize list to store sum of squared distances of samples to their closest cluster center\n",
    "sum_squared_distances = []\n",
    "k_values = np.arange(1,30)\n",
    "\n",
    "for k in k_values:\n",
    "    print(k, end = \" \")\n",
    "    kmeans = KMeans(n_clusters = k, init = 'k-means++').fit(azdias_small.sample(20000))\n",
    "    sum_squared_distances.append(kmeans.inertia_)"
   ]
  },
  {
   "cell_type": "code",
   "execution_count": 24,
   "id": "93797490",
   "metadata": {},
   "outputs": [
    {
     "data": {
      "image/png": "[encoded data removed]",
      "text/plain": [
       "<Figure size 1152x432 with 1 Axes>"
      ]
     },
     "metadata": {
      "needs_background": "light"
     },
     "output_type": "display_data"
    }
   ],
   "source": [
    "plt.figure(figsize = (16,6))\n",
    "plt.plot(k_values, sum_squared_distances, marker = \"P\")\n",
    "plt.xlabel('Number of clusters')\n",
    "plt.ylabel('Sum of the squared distance')\n",
    "plt.xticks(k_values)\n",
    "plt.tight_layout()\n",
    "plt.savefig('images/Elbow_plot.png')"
   ]
  },
  {
   "cell_type": "markdown",
   "id": "5fdb2e7c",
   "metadata": {},
   "source": [
    "Visual inspection of the plot of the sum of the squared distances (inertia) as a function of the number of clusters does not reveal an \"elbow\" (i.e., a point at which there is a sharp drop-off in error). However, the sharpest drop seems to be before 11 clusters."
   ]
  },
  {
   "cell_type": "code",
   "execution_count": 25,
   "id": "acd3eaef",
   "metadata": {},
   "outputs": [],
   "source": [
    "# Final parameters chosen for PCA and KMeans\n",
    "num_pca_components = 209\n",
    "num_k_means_clusters = 10"
   ]
  },
  {
   "cell_type": "code",
   "execution_count": 26,
   "id": "b9aad037",
   "metadata": {},
   "outputs": [],
   "source": [
    "pca_and_kmeans_pipeline = Pipeline([ ('reduce_dimensioniality', PCA(num_pca_components)),\n",
    "                                    ('find_clusters', KMeans(num_k_means_clusters))  \n",
    "                                  ])"
   ]
  },
  {
   "cell_type": "code",
   "execution_count": 27,
   "id": "2434f943",
   "metadata": {},
   "outputs": [
    {
     "data": {
      "text/plain": [
       "Pipeline(steps=[('reduce_dimensioniality', PCA(n_components=209)),\n",
       "                ('find_clusters', KMeans(n_clusters=10))])"
      ]
     },
     "execution_count": 27,
     "metadata": {},
     "output_type": "execute_result"
    }
   ],
   "source": [
    "pca_and_kmeans_pipeline.fit(azdias)"
   ]
  },
  {
   "cell_type": "code",
   "execution_count": 28,
   "id": "79b63a65",
   "metadata": {},
   "outputs": [],
   "source": [
    "azdias['Cluster Number'] = pca_and_kmeans_pipeline.predict(azdias)"
   ]
  },
  {
   "cell_type": "code",
   "execution_count": 29,
   "id": "fe36c022",
   "metadata": {},
   "outputs": [],
   "source": [
    "clusters_azdias = pd.DataFrame(azdias['Cluster Number'].value_counts().sort_index())"
   ]
  },
  {
   "cell_type": "code",
   "execution_count": 30,
   "id": "1c77d323",
   "metadata": {},
   "outputs": [],
   "source": [
    "clusters_azdias.to_pickle(location+'clusters_azdias.pkl')"
   ]
  },
  {
   "cell_type": "code",
   "execution_count": 31,
   "id": "008e1eb0",
   "metadata": {},
   "outputs": [],
   "source": [
    "customers = pd.read_pickle(location+'customers_final.pkl')"
   ]
  },
  {
   "cell_type": "code",
   "execution_count": 32,
   "id": "8b7eae5b",
   "metadata": {},
   "outputs": [
    {
     "data": {
      "text/plain": [
       "Pipeline(steps=[('reduce_dimensioniality', PCA(n_components=209)),\n",
       "                ('find_clusters', KMeans(n_clusters=10))])"
      ]
     },
     "execution_count": 32,
     "metadata": {},
     "output_type": "execute_result"
    }
   ],
   "source": [
    "pca_and_kmeans_pipeline.fit(customers)"
   ]
  },
  {
   "cell_type": "code",
   "execution_count": 33,
   "id": "5cee0f79",
   "metadata": {},
   "outputs": [],
   "source": [
    "customers['Cluster Number'] = pca_and_kmeans_pipeline.predict(customers)"
   ]
  },
  {
   "cell_type": "code",
   "execution_count": 34,
   "id": "9ed153ba",
   "metadata": {},
   "outputs": [],
   "source": [
    "clusters_customers = pd.DataFrame(customers['Cluster Number'].value_counts().sort_index())"
   ]
  },
  {
   "cell_type": "code",
   "execution_count": 35,
   "id": "eeb51bc8",
   "metadata": {},
   "outputs": [],
   "source": [
    "clusters_customers.to_pickle(location+'clusters_customers.pkl')"
   ]
  },
  {
   "cell_type": "code",
   "execution_count": 36,
   "id": "e1e2423f",
   "metadata": {},
   "outputs": [
    {
     "data": {
      "text/html": [
       "<div>\n",
       "<style scoped>\n",
       "    .dataframe tbody tr th:only-of-type {\n",
       "        vertical-align: middle;\n",
       "    }\n",
       "\n",
       "    .dataframe tbody tr th {\n",
       "        vertical-align: top;\n",
       "    }\n",
       "\n",
       "    .dataframe thead th {\n",
       "        text-align: right;\n",
       "    }\n",
       "</style>\n",
       "<table border=\"1\" class=\"dataframe\">\n",
       "  <thead>\n",
       "    <tr style=\"text-align: right;\">\n",
       "      <th></th>\n",
       "      <th>Cluster Number</th>\n",
       "    </tr>\n",
       "  </thead>\n",
       "  <tbody>\n",
       "    <tr>\n",
       "      <th>0</th>\n",
       "      <td>16258</td>\n",
       "    </tr>\n",
       "    <tr>\n",
       "      <th>1</th>\n",
       "      <td>13817</td>\n",
       "    </tr>\n",
       "    <tr>\n",
       "      <th>2</th>\n",
       "      <td>8564</td>\n",
       "    </tr>\n",
       "    <tr>\n",
       "      <th>3</th>\n",
       "      <td>15615</td>\n",
       "    </tr>\n",
       "    <tr>\n",
       "      <th>4</th>\n",
       "      <td>14256</td>\n",
       "    </tr>\n",
       "  </tbody>\n",
       "</table>\n",
       "</div>"
      ],
      "text/plain": [
       "   Cluster Number\n",
       "0           16258\n",
       "1           13817\n",
       "2            8564\n",
       "3           15615\n",
       "4           14256"
      ]
     },
     "execution_count": 36,
     "metadata": {},
     "output_type": "execute_result"
    }
   ],
   "source": [
    "clusters_customers.head()"
   ]
  },
  {
   "cell_type": "code",
   "execution_count": 37,
   "id": "a20079c7",
   "metadata": {},
   "outputs": [
    {
     "data": {
      "text/html": [
       "<div>\n",
       "<style scoped>\n",
       "    .dataframe tbody tr th:only-of-type {\n",
       "        vertical-align: middle;\n",
       "    }\n",
       "\n",
       "    .dataframe tbody tr th {\n",
       "        vertical-align: top;\n",
       "    }\n",
       "\n",
       "    .dataframe thead th {\n",
       "        text-align: right;\n",
       "    }\n",
       "</style>\n",
       "<table border=\"1\" class=\"dataframe\">\n",
       "  <thead>\n",
       "    <tr style=\"text-align: right;\">\n",
       "      <th></th>\n",
       "      <th>Cluster Number</th>\n",
       "    </tr>\n",
       "  </thead>\n",
       "  <tbody>\n",
       "    <tr>\n",
       "      <th>0</th>\n",
       "      <td>58667</td>\n",
       "    </tr>\n",
       "    <tr>\n",
       "      <th>1</th>\n",
       "      <td>46656</td>\n",
       "    </tr>\n",
       "    <tr>\n",
       "      <th>2</th>\n",
       "      <td>47814</td>\n",
       "    </tr>\n",
       "    <tr>\n",
       "      <th>3</th>\n",
       "      <td>98235</td>\n",
       "    </tr>\n",
       "    <tr>\n",
       "      <th>4</th>\n",
       "      <td>76482</td>\n",
       "    </tr>\n",
       "  </tbody>\n",
       "</table>\n",
       "</div>"
      ],
      "text/plain": [
       "   Cluster Number\n",
       "0           58667\n",
       "1           46656\n",
       "2           47814\n",
       "3           98235\n",
       "4           76482"
      ]
     },
     "execution_count": 37,
     "metadata": {},
     "output_type": "execute_result"
    }
   ],
   "source": [
    "clusters_azdias.head()"
   ]
  },
  {
   "cell_type": "code",
   "execution_count": 38,
   "id": "6b94a17a",
   "metadata": {},
   "outputs": [],
   "source": [
    "all_clusters = clusters_azdias.join(clusters_customers, lsuffix='_azdias',rsuffix='_customers')\n",
    "all_clusters.columns = [\"Gen Pop\", \"Customers\"]\n",
    "all_clusters.index.names = ['Cluster Number']\n",
    "all_clusters.index = all_clusters.index+1"
   ]
  },
  {
   "cell_type": "code",
   "execution_count": 39,
   "id": "cd2c00b2",
   "metadata": {},
   "outputs": [
    {
     "data": {
      "text/html": [
       "<div>\n",
       "<style scoped>\n",
       "    .dataframe tbody tr th:only-of-type {\n",
       "        vertical-align: middle;\n",
       "    }\n",
       "\n",
       "    .dataframe tbody tr th {\n",
       "        vertical-align: top;\n",
       "    }\n",
       "\n",
       "    .dataframe thead th {\n",
       "        text-align: right;\n",
       "    }\n",
       "</style>\n",
       "<table border=\"1\" class=\"dataframe\">\n",
       "  <thead>\n",
       "    <tr style=\"text-align: right;\">\n",
       "      <th></th>\n",
       "      <th>Gen Pop</th>\n",
       "      <th>Customers</th>\n",
       "    </tr>\n",
       "    <tr>\n",
       "      <th>Cluster Number</th>\n",
       "      <th></th>\n",
       "      <th></th>\n",
       "    </tr>\n",
       "  </thead>\n",
       "  <tbody>\n",
       "    <tr>\n",
       "      <th>1</th>\n",
       "      <td>58667</td>\n",
       "      <td>16258</td>\n",
       "    </tr>\n",
       "    <tr>\n",
       "      <th>2</th>\n",
       "      <td>46656</td>\n",
       "      <td>13817</td>\n",
       "    </tr>\n",
       "    <tr>\n",
       "      <th>3</th>\n",
       "      <td>47814</td>\n",
       "      <td>8564</td>\n",
       "    </tr>\n",
       "    <tr>\n",
       "      <th>4</th>\n",
       "      <td>98235</td>\n",
       "      <td>15615</td>\n",
       "    </tr>\n",
       "    <tr>\n",
       "      <th>5</th>\n",
       "      <td>76482</td>\n",
       "      <td>14256</td>\n",
       "    </tr>\n",
       "  </tbody>\n",
       "</table>\n",
       "</div>"
      ],
      "text/plain": [
       "                Gen Pop  Customers\n",
       "Cluster Number                    \n",
       "1                 58667      16258\n",
       "2                 46656      13817\n",
       "3                 47814       8564\n",
       "4                 98235      15615\n",
       "5                 76482      14256"
      ]
     },
     "execution_count": 39,
     "metadata": {},
     "output_type": "execute_result"
    }
   ],
   "source": [
    "all_clusters.head()"
   ]
  },
  {
   "cell_type": "code",
   "execution_count": 40,
   "id": "0ee01b71",
   "metadata": {},
   "outputs": [],
   "source": [
    "gen_pop_sum = all_clusters['Gen Pop'].sum()\n",
    "customers_sum = all_clusters['Customers'].sum()\n",
    "all_clusters['Gen Pop'] = all_clusters['Gen Pop']/gen_pop_sum\n",
    "all_clusters['Customers'] = all_clusters['Customers']/customers_sum"
   ]
  },
  {
   "cell_type": "code",
   "execution_count": 41,
   "id": "6e1548db",
   "metadata": {},
   "outputs": [
    {
     "data": {
      "text/html": [
       "<div>\n",
       "<style scoped>\n",
       "    .dataframe tbody tr th:only-of-type {\n",
       "        vertical-align: middle;\n",
       "    }\n",
       "\n",
       "    .dataframe tbody tr th {\n",
       "        vertical-align: top;\n",
       "    }\n",
       "\n",
       "    .dataframe thead th {\n",
       "        text-align: right;\n",
       "    }\n",
       "</style>\n",
       "<table border=\"1\" class=\"dataframe\">\n",
       "  <thead>\n",
       "    <tr style=\"text-align: right;\">\n",
       "      <th></th>\n",
       "      <th>Gen Pop</th>\n",
       "      <th>Customers</th>\n",
       "    </tr>\n",
       "    <tr>\n",
       "      <th>Cluster Number</th>\n",
       "      <th></th>\n",
       "      <th></th>\n",
       "    </tr>\n",
       "  </thead>\n",
       "  <tbody>\n",
       "    <tr>\n",
       "      <th>1</th>\n",
       "      <td>0.079571</td>\n",
       "      <td>0.121106</td>\n",
       "    </tr>\n",
       "    <tr>\n",
       "      <th>2</th>\n",
       "      <td>0.063281</td>\n",
       "      <td>0.102923</td>\n",
       "    </tr>\n",
       "    <tr>\n",
       "      <th>3</th>\n",
       "      <td>0.064851</td>\n",
       "      <td>0.063793</td>\n",
       "    </tr>\n",
       "    <tr>\n",
       "      <th>4</th>\n",
       "      <td>0.133238</td>\n",
       "      <td>0.116316</td>\n",
       "    </tr>\n",
       "    <tr>\n",
       "      <th>5</th>\n",
       "      <td>0.103734</td>\n",
       "      <td>0.106193</td>\n",
       "    </tr>\n",
       "    <tr>\n",
       "      <th>6</th>\n",
       "      <td>0.088305</td>\n",
       "      <td>0.145129</td>\n",
       "    </tr>\n",
       "    <tr>\n",
       "      <th>7</th>\n",
       "      <td>0.126755</td>\n",
       "      <td>0.036895</td>\n",
       "    </tr>\n",
       "    <tr>\n",
       "      <th>8</th>\n",
       "      <td>0.070046</td>\n",
       "      <td>0.191298</td>\n",
       "    </tr>\n",
       "    <tr>\n",
       "      <th>9</th>\n",
       "      <td>0.128112</td>\n",
       "      <td>0.076725</td>\n",
       "    </tr>\n",
       "    <tr>\n",
       "      <th>10</th>\n",
       "      <td>0.142106</td>\n",
       "      <td>0.039621</td>\n",
       "    </tr>\n",
       "  </tbody>\n",
       "</table>\n",
       "</div>"
      ],
      "text/plain": [
       "                 Gen Pop  Customers\n",
       "Cluster Number                     \n",
       "1               0.079571   0.121106\n",
       "2               0.063281   0.102923\n",
       "3               0.064851   0.063793\n",
       "4               0.133238   0.116316\n",
       "5               0.103734   0.106193\n",
       "6               0.088305   0.145129\n",
       "7               0.126755   0.036895\n",
       "8               0.070046   0.191298\n",
       "9               0.128112   0.076725\n",
       "10              0.142106   0.039621"
      ]
     },
     "execution_count": 41,
     "metadata": {},
     "output_type": "execute_result"
    }
   ],
   "source": [
    "all_clusters"
   ]
  },
  {
   "cell_type": "code",
   "execution_count": 42,
   "id": "cb2d4f33",
   "metadata": {},
   "outputs": [
    {
     "data": {
      "image/png": "[encoded data removed]",
      "text/plain": [
       "<Figure size 1152x432 with 1 Axes>"
      ]
     },
     "metadata": {
      "needs_background": "light"
     },
     "output_type": "display_data"
    }
   ],
   "source": [
    "# Plot clusters \n",
    "plt.figure(figsize=(16,6));\n",
    "\n",
    "x_values = np.arange(1, num_k_means_clusters+1, 1)    # the x locations for the groups\n",
    "width = 0.4         # the width of the bars\n",
    "\n",
    "plt.xlabel('Cluster number')\n",
    "plt.ylabel('Percentage in each cluster')\n",
    "plt.bar(x_values, all_clusters['Gen Pop']*100, width, label = \"Gen. Pop.\", bottom=0);\n",
    "plt.bar(x_values + width, all_clusters['Customers']*100, width, label = \"Customers\", bottom=0);\n",
    "plt.legend(fontsize = 16)\n",
    "plt.xticks(x_values);\n",
    "plt.tight_layout()\n",
    "plt.savefig('images/Clusters.png')"
   ]
  },
  {
   "cell_type": "markdown",
   "id": "2cb94c18",
   "metadata": {},
   "source": [
    "Clusters 4, 6, 7, 10 are overrepresented in the customers dataset whereas Clusters 1 and 3 are underrepresented. "
   ]
  },
  {
   "cell_type": "markdown",
   "id": "9c6ea220",
   "metadata": {},
   "source": [
    "Thus the properties of clusters 4, 6, 7, 10 are the ones to target in any future advertising campaigns."
   ]
  },
  {
   "cell_type": "code",
   "execution_count": 43,
   "id": "38db4a3a",
   "metadata": {},
   "outputs": [
    {
     "data": {
      "text/plain": [
       "count    10.000000\n",
       "mean      0.100000\n",
       "std       0.030610\n",
       "min       0.063281\n",
       "25%       0.072427\n",
       "50%       0.096020\n",
       "75%       0.127772\n",
       "max       0.142106\n",
       "Name: Gen Pop, dtype: float64"
      ]
     },
     "execution_count": 43,
     "metadata": {},
     "output_type": "execute_result"
    }
   ],
   "source": [
    "all_clusters['Gen Pop'].describe()"
   ]
  },
  {
   "cell_type": "code",
   "execution_count": 44,
   "id": "0a4afb3c",
   "metadata": {},
   "outputs": [
    {
     "name": "stdout",
     "output_type": "stream",
     "text": [
      "0.06938979623673569\n",
      "0.06328064919088495\n"
     ]
    }
   ],
   "source": [
    "print(all_clusters['Gen Pop'].describe()['mean']-all_clusters['Gen Pop'].describe()['std'])\n",
    "print(all_clusters['Gen Pop'].describe()['min'])"
   ]
  },
  {
   "cell_type": "code",
   "execution_count": 45,
   "id": "8f9521c1",
   "metadata": {},
   "outputs": [
    {
     "name": "stdout",
     "output_type": "stream",
     "text": [
      "0.13061020376326432\n",
      "0.14210612692208055\n"
     ]
    }
   ],
   "source": [
    "print(all_clusters['Gen Pop'].describe()['mean']+all_clusters['Gen Pop'].describe()['std'])\n",
    "print(all_clusters['Gen Pop'].describe()['max'])"
   ]
  },
  {
   "cell_type": "markdown",
   "id": "379feacb",
   "metadata": {},
   "source": [
    "For the general population we find that the maximum and minimum percentages are just over one standard deviation of the median value, as we would expect."
   ]
  },
  {
   "cell_type": "code",
   "execution_count": 46,
   "id": "eaa59565",
   "metadata": {},
   "outputs": [
    {
     "data": {
      "text/plain": [
       "count    10.000000\n",
       "mean      0.100000\n",
       "std       0.047855\n",
       "min       0.036895\n",
       "25%       0.067026\n",
       "50%       0.104558\n",
       "75%       0.119909\n",
       "max       0.191298\n",
       "Name: Customers, dtype: float64"
      ]
     },
     "execution_count": 46,
     "metadata": {},
     "output_type": "execute_result"
    }
   ],
   "source": [
    "all_clusters['Customers'].describe()"
   ]
  },
  {
   "cell_type": "code",
   "execution_count": 47,
   "id": "0e879834",
   "metadata": {},
   "outputs": [
    {
     "name": "stdout",
     "output_type": "stream",
     "text": [
      "0.06938979623673569\n",
      "0.03877959247347136\n",
      "0.03689495403959894\n"
     ]
    }
   ],
   "source": [
    "print(all_clusters['Customers'].describe()['mean']-all_clusters['Gen Pop'].describe()['std'])\n",
    "print(all_clusters['Customers'].describe()['mean']-2*all_clusters['Gen Pop'].describe()['std'])\n",
    "print(all_clusters['Customers'].describe()['min'])"
   ]
  },
  {
   "cell_type": "code",
   "execution_count": 48,
   "id": "ecc6b7d5",
   "metadata": {},
   "outputs": [
    {
     "name": "stdout",
     "output_type": "stream",
     "text": [
      "0.13061020376326432\n",
      "0.16122040752652866\n",
      "0.19183061128979298\n",
      "0.1912980647468081\n"
     ]
    }
   ],
   "source": [
    "print(all_clusters['Customers'].describe()['mean']+all_clusters['Gen Pop'].describe()['std'])\n",
    "print(all_clusters['Customers'].describe()['mean']+2*all_clusters['Gen Pop'].describe()['std'])\n",
    "print(all_clusters['Customers'].describe()['mean']+3*all_clusters['Gen Pop'].describe()['std'])\n",
    "print(all_clusters['Customers'].describe()['max'])"
   ]
  },
  {
   "cell_type": "markdown",
   "id": "9edbe91d",
   "metadata": {},
   "source": [
    "For the customers we find that the maximum and minimum percentages are over three standard deviations from the median value."
   ]
  }
 ],
 "metadata": {
  "kernelspec": {
   "display_name": "Python 3",
   "language": "python",
   "name": "python3"
  },
  "language_info": {
   "codemirror_mode": {
    "name": "ipython",
    "version": 3
   },
   "file_extension": ".py",
   "mimetype": "text/x-python",
   "name": "python",
   "nbconvert_exporter": "python",
   "pygments_lexer": "ipython3",
   "version": "3.9.5"
  }
 },
 "nbformat": 4,
 "nbformat_minor": 5
}
